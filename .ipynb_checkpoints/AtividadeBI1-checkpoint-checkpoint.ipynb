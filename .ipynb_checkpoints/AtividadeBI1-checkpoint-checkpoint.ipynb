{
 "cells": [
  {
   "cell_type": "code",
   "execution_count": null,
   "id": "30b49535-c989-4f04-81a8-7e4321d4e9f1",
   "metadata": {},
   "outputs": [],
   "source": [
    "# Importar a biblioteca pandas\n",
    "import pandas as pd\n",
    "\n",
    "# Carregar os arquivos CSV\n",
    "vendas_globais = pd.read_csv('caminho/para/vendas_globais.csv')\n",
    "fornecedores = pd.read_csv('Documents\\projects\\BI-P6\\Fornecedores.csv')\n",
    "transportadoras = pd.read_csv('caminho/para/transportadoras.csv')\n",
    "vendedores = pd.read_csv('caminho/para/vendedores.csv')\n",
    "\n",
    "# Exibir os primeiros registros para confirmar o carregamento\n",
    "display(vendas_globais.head())\n",
    "display(fornecedores.head())\n",
    "display(transportadoras.head())\n",
    "display(vendedores.head())\n"
   ]
  }
 ],
 "metadata": {
  "kernelspec": {
   "display_name": "Python 3 (ipykernel)",
   "language": "python",
   "name": "python3"
  },
  "language_info": {
   "codemirror_mode": {
    "name": "ipython",
    "version": 3
   },
   "file_extension": ".py",
   "mimetype": "text/x-python",
   "name": "python",
   "nbconvert_exporter": "python",
   "pygments_lexer": "ipython3",
   "version": "3.10.4"
  }
 },
 "nbformat": 4,
 "nbformat_minor": 5
}
