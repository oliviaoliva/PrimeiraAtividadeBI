{
 "cells": [
  {
   "cell_type": "code",
   "execution_count": 142,
   "id": "a583b46c-7c35-4c02-a829-56152127f9e5",
   "metadata": {},
   "outputs": [],
   "source": [
    "import pandas as pd\n",
    "\n",
    "fornecedores = pd.read_csv('Fornecedores.csv')\n",
    "vendas_globais = pd.read_csv('Vendas Globais.csv')\n",
    "transportadoras = pd.read_csv('Transportadoras.csv')\n",
    "vendedores = pd.read_csv('Vendedores.csv')"
   ]
  },
  {
   "cell_type": "code",
   "execution_count": 143,
   "id": "575f5e77-0c39-41b9-a82e-ed3abff05a0b",
   "metadata": {},
   "outputs": [
    {
     "name": "stdout",
     "output_type": "stream",
     "text": [
      "Informações sobre o DataFrame de Fornecedores:\n",
      "\n",
      "<class 'pandas.core.frame.DataFrame'>\n",
      "RangeIndex: 29 entries, 0 to 28\n",
      "Data columns (total 2 columns):\n",
      " #   Column          Non-Null Count  Dtype \n",
      "---  ------          --------------  ----- \n",
      " 0   FornecedorID    29 non-null     int64 \n",
      " 1   FornecedorNome  29 non-null     object\n",
      "dtypes: int64(1), object(1)\n",
      "memory usage: 592.0+ bytes\n",
      "None\n",
      "\n",
      "Informações sobre o DataFrame de Vendas Globais:\n",
      "\n",
      "<class 'pandas.core.frame.DataFrame'>\n",
      "RangeIndex: 2360 entries, 0 to 2359\n",
      "Data columns (total 22 columns):\n",
      " #   Column              Non-Null Count  Dtype  \n",
      "---  ------              --------------  -----  \n",
      " 0   PedidoID            2172 non-null   float64\n",
      " 1   CategoriaID         2172 non-null   float64\n",
      " 2   CategoriaNome       2172 non-null   object \n",
      " 3   CategoriaDescrição  2172 non-null   object \n",
      " 4   ClienteID           2172 non-null   float64\n",
      " 5   ClienteNome         2172 non-null   object \n",
      " 6   ClienteContato      2172 non-null   object \n",
      " 7   ClienteCidade       2172 non-null   object \n",
      " 8   ClientePaísID       2172 non-null   object \n",
      " 9   ClientePaís         2172 non-null   object \n",
      " 10  Vendas Custo        2172 non-null   float64\n",
      " 11  Margem Bruta        2172 non-null   float64\n",
      " 12  Vendas              2172 non-null   float64\n",
      " 13  Desconto            2172 non-null   float64\n",
      " 14  Frete               2172 non-null   float64\n",
      " 15  Qtde                2172 non-null   float64\n",
      " 16  Data                2172 non-null   object \n",
      " 17  VendedorID          2172 non-null   float64\n",
      " 18  ProdutoID           2172 non-null   float64\n",
      " 19  ProdutoNome         2172 non-null   object \n",
      " 20  TransportadoraID    2172 non-null   float64\n",
      " 21  FornecedorID        2172 non-null   float64\n",
      "dtypes: float64(13), object(9)\n",
      "memory usage: 405.8+ KB\n",
      "None\n",
      "\n",
      "Informações sobre o DataFrame de Transportadoras:\n",
      "\n",
      "<class 'pandas.core.frame.DataFrame'>\n",
      "RangeIndex: 3 entries, 0 to 2\n",
      "Data columns (total 2 columns):\n",
      " #   Column              Non-Null Count  Dtype \n",
      "---  ------              --------------  ----- \n",
      " 0   TransportadoraID    3 non-null      int64 \n",
      " 1   TransportadoraNome  3 non-null      object\n",
      "dtypes: int64(1), object(1)\n",
      "memory usage: 176.0+ bytes\n",
      "None\n",
      "\n",
      "Informações sobre o DataFrame de Vendedores:\n",
      "\n",
      "<class 'pandas.core.frame.DataFrame'>\n",
      "RangeIndex: 9 entries, 0 to 8\n",
      "Data columns (total 2 columns):\n",
      " #   Column        Non-Null Count  Dtype \n",
      "---  ------        --------------  ----- \n",
      " 0   VendedorID    9 non-null      int64 \n",
      " 1   VendedorNome  9 non-null      object\n",
      "dtypes: int64(1), object(1)\n",
      "memory usage: 272.0+ bytes\n",
      "None\n",
      "\n",
      "Valores ausentes em Vendas Globais:\n",
      "\n",
      "PedidoID              188\n",
      "CategoriaID           188\n",
      "CategoriaNome         188\n",
      "CategoriaDescrição    188\n",
      "ClienteID             188\n",
      "ClienteNome           188\n",
      "ClienteContato        188\n",
      "ClienteCidade         188\n",
      "ClientePaísID         188\n",
      "ClientePaís           188\n",
      "Vendas Custo          188\n",
      "Margem Bruta          188\n",
      "Vendas                188\n",
      "Desconto              188\n",
      "Frete                 188\n",
      "Qtde                  188\n",
      "Data                  188\n",
      "VendedorID            188\n",
      "ProdutoID             188\n",
      "ProdutoNome           188\n",
      "TransportadoraID      188\n",
      "FornecedorID          188\n",
      "dtype: int64\n"
     ]
    }
   ],
   "source": [
    "# Verificando se os dados estão sendo trazidos\n",
    "\n",
    "print(\"Informações sobre o DataFrame de Fornecedores:\\n\")\n",
    "print(fornecedores.info())\n",
    "\n",
    "print(\"\\nInformações sobre o DataFrame de Vendas Globais:\\n\")\n",
    "print(vendas_globais.info())\n",
    "\n",
    "print(\"\\nInformações sobre o DataFrame de Transportadoras:\\n\")\n",
    "print(transportadoras.info())\n",
    "\n",
    "print(\"\\nInformações sobre o DataFrame de Vendedores:\\n\")\n",
    "print(vendedores.info())\n",
    "\n",
    "# Verificar valores ausentes\n",
    "print(\"\\nValores ausentes em Vendas Globais:\\n\")\n",
    "print(vendas_globais.isnull().sum())"
   ]
  },
  {
   "cell_type": "code",
   "execution_count": 144,
   "id": "81d4a665-db13-4ef3-8d20-054fe973bb5f",
   "metadata": {},
   "outputs": [
    {
     "name": "stdout",
     "output_type": "stream",
     "text": [
      "PedidoID              0\n",
      "CategoriaID           0\n",
      "CategoriaNome         0\n",
      "CategoriaDescrição    0\n",
      "ClienteID             0\n",
      "ClienteNome           0\n",
      "ClienteContato        0\n",
      "ClienteCidade         0\n",
      "ClientePaísID         0\n",
      "ClientePaís           0\n",
      "Vendas Custo          0\n",
      "Margem Bruta          0\n",
      "Vendas                0\n",
      "Desconto              0\n",
      "Frete                 0\n",
      "Qtde                  0\n",
      "Data                  0\n",
      "VendedorID            0\n",
      "ProdutoID             0\n",
      "ProdutoNome           0\n",
      "TransportadoraID      0\n",
      "FornecedorID          0\n",
      "dtype: int64\n"
     ]
    }
   ],
   "source": [
    "# Preencher valores ausentes em colunas numéricas com zero\n",
    "vendas_globais['Frete'] = vendas_globais['Frete'].fillna(0)\n",
    "vendas_globais['Desconto'] = vendas_globais['Desconto'].fillna(0)\n",
    "\n",
    "# Remover linhas com IDs críticos ausentes\n",
    "vendas_globais.dropna(subset=['ClienteID', 'VendedorID', 'CategoriaID', 'ProdutoID', 'FornecedorID'], inplace=True)\n",
    "\n",
    "# Verificar novamente se os valores ausentes foram corrigidos\n",
    "print(vendas_globais.isnull().sum())\n"
   ]
  },
  {
   "cell_type": "code",
   "execution_count": 145,
   "id": "e7e79f91-bfad-476b-b5c8-7a34a2bca611",
   "metadata": {},
   "outputs": [],
   "source": [
    "# Converter coluna de data para o formato datetime\n",
    "vendas_globais['Data'] = pd.to_datetime(vendas_globais['Data'], dayfirst=True)"
   ]
  },
  {
   "cell_type": "code",
   "execution_count": 146,
   "id": "4314b0b2-990a-4cf7-bfc5-2a30c15370c5",
   "metadata": {},
   "outputs": [],
   "source": [
    "## 1. Quem são os meus 10 maiores clientes, em termos de vendas ($)?"
   ]
  },
  {
   "cell_type": "code",
   "execution_count": 147,
   "id": "22f9cec9-1530-4bcb-87d4-a02d668e370a",
   "metadata": {},
   "outputs": [
    {
     "name": "stdout",
     "output_type": "stream",
     "text": [
      "ClienteNome\n",
      "Grunewald           201320.4531\n",
      "Th Fashing          152114.7892\n",
      "Boleros             131133.1451\n",
      "Champes              91362.1350\n",
      "The Corner Store     82519.8235\n",
      "Eintrach GS          75153.5245\n",
      "Don Balón            68265.6625\n",
      "Warp AG              65815.9770\n",
      "Rode & Vite          59976.9277\n",
      "Boombastic           50922.4655\n",
      "Name: Vendas, dtype: float64\n"
     ]
    }
   ],
   "source": [
    "top_clientes = vendas_globais.groupby('ClienteNome')['Vendas'].sum().sort_values(ascending=False).head(10)\n",
    "\n",
    "print(top_clientes)"
   ]
  },
  {
   "cell_type": "code",
   "execution_count": 148,
   "id": "faa32b02-e60b-4c79-90e5-51db58f8ca20",
   "metadata": {},
   "outputs": [],
   "source": [
    "## 2. Quais os três maiores países, em termos de vendas ($)?"
   ]
  },
  {
   "cell_type": "code",
   "execution_count": 149,
   "id": "537b268a-b045-4631-ad42-0611ed55cf79",
   "metadata": {},
   "outputs": [
    {
     "name": "stdout",
     "output_type": "stream",
     "text": [
      "ClientePaís\n",
      "Germany    519553.7336\n",
      "USA        186313.2205\n",
      "France     175565.3015\n",
      "Name: Vendas, dtype: float64\n"
     ]
    }
   ],
   "source": [
    "top_paises = vendas_globais.groupby('ClientePaís')['Vendas'].sum().sort_values(ascending=False).head(3)\n",
    "\n",
    "print(top_paises)"
   ]
  },
  {
   "cell_type": "code",
   "execution_count": 150,
   "id": "c02b6e1c-4d6d-48d0-8612-3b4110762ba8",
   "metadata": {},
   "outputs": [],
   "source": [
    "## 3. Quais as categorias de produtos que geram maior faturamento (vendas $) no Brasil?"
   ]
  },
  {
   "cell_type": "code",
   "execution_count": 151,
   "id": "542813be-93c2-4227-99c8-358099afa303",
   "metadata": {},
   "outputs": [
    {
     "name": "stdout",
     "output_type": "stream",
     "text": [
      "CategoriaNome\n",
      "Womens wear        60941.7265\n",
      "Sportwear          19509.4255\n",
      "Babywear           10367.2100\n",
      "Men´s Footwear      9467.7425\n",
      "Ladies´Footwear     7798.5190\n",
      "Men´s Clothes       6158.0640\n",
      "Bath Clothes        3407.7050\n",
      "Children´s wear     2752.4250\n",
      "Name: Vendas, dtype: float64\n"
     ]
    }
   ],
   "source": [
    "categorias_brasil = vendas_globais[vendas_globais['ClientePaís'] == 'Brazil'].groupby('CategoriaNome')['Vendas'].sum().sort_values(ascending=False)\n",
    "\n",
    "print(categorias_brasil)"
   ]
  },
  {
   "cell_type": "code",
   "execution_count": 152,
   "id": "24b419ab-bd94-44b1-a0d9-77c36c241ecb",
   "metadata": {},
   "outputs": [],
   "source": [
    "## 4. Qual a despesa com frete envolvendo cada transportadora?"
   ]
  },
  {
   "cell_type": "code",
   "execution_count": 153,
   "id": "67379caf-6f1c-4687-b366-dd60e35b4b2a",
   "metadata": {},
   "outputs": [
    {
     "name": "stdout",
     "output_type": "stream",
     "text": [
      "  TransportadoraNome     Frete\n",
      "0   General Shipping  19843.83\n",
      "1     Global Express  70897.82\n",
      "2    Great Logistics  18771.69\n"
     ]
    }
   ],
   "source": [
    "frete_transportadoras = vendas_globais.groupby('TransportadoraID')['Frete'].sum()\n",
    "frete_transportadoras = frete_transportadoras.reset_index().merge(transportadoras, on='TransportadoraID')\n",
    "\n",
    "print(frete_transportadoras[['TransportadoraNome', 'Frete']])"
   ]
  },
  {
   "cell_type": "code",
   "execution_count": 154,
   "id": "1f90697b-aa0e-45e1-8bcc-fb3fed6d65ac",
   "metadata": {},
   "outputs": [],
   "source": [
    "## 5. Quais são os principais clientes (vendas $) do segmento “Calçados Masculinos” (Men´s Footwear) na Alemanha?"
   ]
  },
  {
   "cell_type": "code",
   "execution_count": 155,
   "id": "da826508-7797-488d-8239-6c2900cc5f5c",
   "metadata": {},
   "outputs": [
    {
     "name": "stdout",
     "output_type": "stream",
     "text": [
      "ClienteNome\n",
      "Grunewald             20488.4850\n",
      "Gluderstedt           11923.3485\n",
      "Boombastic            11235.9700\n",
      "Eintrach GS           10377.8330\n",
      "Warp AG                9085.7650\n",
      "Noch Einmal GMBH       3030.7200\n",
      "Casual Clothing        2602.5025\n",
      "Halle Köln             1692.5580\n",
      "Man Kleider            1108.0000\n",
      "Kohl Industries AG      286.5600\n",
      "Name: Vendas, dtype: float64\n"
     ]
    }
   ],
   "source": [
    "clientes_calcados_ale = vendas_globais[\n",
    "    (vendas_globais['CategoriaNome'] == \"Men´s Footwear\") &\n",
    "    (vendas_globais['ClientePaís'] == 'Germany')\n",
    "]\n",
    "\n",
    "top_clientes_ale = clientes_calcados_ale.groupby('ClienteNome')['Vendas'].sum().sort_values(ascending=False)\n",
    "print(top_clientes_ale)\n"
   ]
  },
  {
   "cell_type": "code",
   "execution_count": 156,
   "id": "feb2e305-3954-4447-847c-48a0c93e8dea",
   "metadata": {},
   "outputs": [],
   "source": [
    "## 6. Quais os vendedores que mais dão descontos nos Estados Unidos?\n"
   ]
  },
  {
   "cell_type": "code",
   "execution_count": 157,
   "id": "5592f3ec-86f5-4755-92dd-cd53877f7884",
   "metadata": {},
   "outputs": [
    {
     "name": "stdout",
     "output_type": "stream",
     "text": [
      "     VendedorNome   Desconto\n",
      "0  Martina Hingis  61.148083\n",
      "1  Yannick Sinner  42.964963\n",
      "2    Gael Monfils  34.329303\n",
      "3      Cori Gauff  33.712500\n"
     ]
    }
   ],
   "source": [
    "# vendas_globais['ClientePaís'] = vendas_globais['ClientePaís'].str.strip().str.lower()\n",
    "descontos_usa = vendas_globais[vendas_globais['ClientePaís'] == 'USA']\n",
    "\n",
    "descontos_por_vendedor = descontos_usa.groupby('VendedorID')['Desconto'].mean().sort_values(ascending=False)\n",
    "\n",
    "descontos_por_vendedor = descontos_por_vendedor.reset_index().merge(vendedores, on='VendedorID')\n",
    "print(descontos_por_vendedor[['VendedorNome', 'Desconto']])\n",
    "\n"
   ]
  },
  {
   "cell_type": "code",
   "execution_count": 158,
   "id": "49d67736-5617-4de9-bee9-5e4121bacc0b",
   "metadata": {},
   "outputs": [],
   "source": [
    "## 7. Quais os fornecedores que dão a maior margem de lucro ($) no segmento de “Vestuário Feminino” (Women's wear)?"
   ]
  },
  {
   "cell_type": "code",
   "execution_count": 159,
   "id": "a54eb843-ffcc-4731-a289-8a9beaa44d19",
   "metadata": {},
   "outputs": [
    {
     "name": "stdout",
     "output_type": "stream",
     "text": [
      "    FornecedorNome  Margem Bruta\n",
      "0    Pälsii Sports    81839.9408\n",
      "1       Baby Dress    20675.2166\n",
      "2   Wills Surfwear    10019.1193\n",
      "3   Great Outdoors     9165.0332\n",
      "4    Global Outlet     4884.9949\n",
      "5      L.A. Sports     2304.5883\n",
      "6      Luis Vilton     2192.3847\n",
      "7     Tennis Place     1845.2659\n",
      "8         Netshoes     1810.7737\n",
      "9        USA Jeans     1273.9987\n",
      "10       Surf Trip      147.6087\n"
     ]
    }
   ],
   "source": [
    "fornecedores_lucro = vendas_globais[vendas_globais['CategoriaNome'] == \"Womens wear\"].groupby('FornecedorID')['Margem Bruta'].sum().sort_values(ascending=False)\n",
    "# merge com fornecedoress\n",
    "fornecedores_lucro = fornecedores_lucro.reset_index().merge(fornecedores, on='FornecedorID')\n",
    "print(fornecedores_lucro[['FornecedorNome', 'Margem Bruta']])\n"
   ]
  },
  {
   "cell_type": "code",
   "execution_count": 160,
   "id": "64ec71bb-d296-41b2-8dc2-962f10bd60a7",
   "metadata": {},
   "outputs": [],
   "source": [
    "## 8. Quanto foi vendido ($) no ano de 2009?"
   ]
  },
  {
   "cell_type": "code",
   "execution_count": 161,
   "id": "a49714e5-4803-4978-9fc7-7ca0b8cfa92f",
   "metadata": {},
   "outputs": [
    {
     "name": "stdout",
     "output_type": "stream",
     "text": [
      "Total de vendas em 2009: $87666.294\n"
     ]
    }
   ],
   "source": [
    "vendas_2009 = vendas_globais[vendas_globais['Data'].dt.year == 2009]['Vendas'].sum()\n",
    "print(f\"Total de vendas em 2009: ${vendas_2009}\")\n"
   ]
  },
  {
   "cell_type": "code",
   "execution_count": 162,
   "id": "4c8818e1-325c-41d2-bab9-9831a94c83cb",
   "metadata": {},
   "outputs": [],
   "source": [
    "## 8. Analisando as vendas anuais entre 2009 e 2012, podemos concluir que o faturamento vem crescendo, se mantendo estável ou decaindo?"
   ]
  },
  {
   "cell_type": "code",
   "execution_count": 163,
   "id": "f3cf3006-7ce5-4cb9-ab09-6726d40205cb",
   "metadata": {},
   "outputs": [
    {
     "name": "stdout",
     "output_type": "stream",
     "text": [
      "Data\n",
      "2009     87666.2940\n",
      "2010    370788.5561\n",
      "2011    641719.4091\n",
      "2012    682973.4414\n",
      "Name: Vendas, dtype: float64\n"
     ]
    },
    {
     "data": {
      "text/plain": [
       "<Axes: title={'center': 'Vendas Anuais (2009-2012)'}, xlabel='Data', ylabel='Vendas ($)'>"
      ]
     },
     "execution_count": 163,
     "metadata": {},
     "output_type": "execute_result"
    },
    {
     "data": {
      "image/png": "[encoded data removed]",
      "text/plain": [
       "<Figure size 640x480 with 1 Axes>"
      ]
     },
     "metadata": {},
     "output_type": "display_data"
    }
   ],
   "source": [
    "# Vendas anuais de 2009 a 2012\n",
    "vendas_ano = vendas_globais[vendas_globais['Data'].dt.year.between(2009, 2012)].groupby(vendas_globais['Data'].dt.year)['Vendas'].sum()\n",
    "print(vendas_ano)\n",
    "# Opcional: plotar gráfico para visualização\n",
    "vendas_ano.plot(kind='line', title='Vendas Anuais (2009-2012)', ylabel='Vendas ($)')\n"
   ]
  },
  {
   "cell_type": "code",
   "execution_count": 164,
   "id": "9bba3353-849b-4a82-89c5-874a128b56ab",
   "metadata": {},
   "outputs": [],
   "source": [
    "## Questão 9 igual a questão 5."
   ]
  },
  {
   "cell_type": "code",
   "execution_count": 165,
   "id": "a4c6bc04-734f-421d-9835-a78418cb8a59",
   "metadata": {},
   "outputs": [],
   "source": [
    "## 10. Quais são os países nos quais mais se tiram pedidos (Quantidade total de pedidos)?"
   ]
  },
  {
   "cell_type": "code",
   "execution_count": 166,
   "id": "c2371ca6-ecd9-4800-a50c-e0642da17311",
   "metadata": {},
   "outputs": [
    {
     "name": "stdout",
     "output_type": "stream",
     "text": [
      "ClientePaís\n",
      "Germany      14093.0\n",
      "USA           6689.0\n",
      "UK            4176.0\n",
      "Ireland       3871.0\n",
      "France        3619.0\n",
      "Brazil        3430.0\n",
      "Venezuela     3051.0\n",
      "Canada        2267.0\n",
      "Mexico        2183.0\n",
      "Denmark       1757.0\n",
      "Name: Qtde, dtype: float64\n"
     ]
    }
   ],
   "source": [
    "# Decidimos mostrar os 10 primeiros\n",
    "pedidos_pais = vendas_globais.groupby('ClientePaís')['Qtde'].sum().sort_values(ascending=False).head(10)\n",
    "print(pedidos_pais)"
   ]
  },
  {
   "cell_type": "code",
   "execution_count": null,
   "id": "bd976302-da0c-45fb-b273-befa012bb89a",
   "metadata": {},
   "outputs": [],
   "source": []
  }
 ],
 "metadata": {
  "kernelspec": {
   "display_name": "Python 3 (ipykernel)",
   "language": "python",
   "name": "python3"
  },
  "language_info": {
   "codemirror_mode": {
    "name": "ipython",
    "version": 3
   },
   "file_extension": ".py",
   "mimetype": "text/x-python",
   "name": "python",
   "nbconvert_exporter": "python",
   "pygments_lexer": "ipython3",
   "version": "3.10.4"
  }
 },
 "nbformat": 4,
 "nbformat_minor": 5
}
